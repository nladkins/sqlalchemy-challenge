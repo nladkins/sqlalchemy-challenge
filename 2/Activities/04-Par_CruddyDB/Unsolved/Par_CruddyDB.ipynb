{
 "cells": [
  {
   "cell_type": "code",
   "execution_count": 1,
   "metadata": {},
   "outputs": [],
   "source": [
    "# Import SQL Alchemy\n",
    "from sqlalchemy import create_engine\n",
    "\n",
    "# Import and establish Base for which classes will be constructed \n",
    "from sqlalchemy.ext.declarative import declarative_base\n",
    "Base = declarative_base()\n",
    "\n",
    "# Import modules to declare columns and column data types\n",
    "from sqlalchemy import Column, Integer, String, Float"
   ]
  },
  {
   "cell_type": "code",
   "execution_count": 2,
   "metadata": {
    "deletable": false,
    "nbgrader": {
     "checksum": "8af1cb904695d814b2f78e98ad1e76d6",
     "grade": false,
     "grade_id": "cell-55d75c21dbb2c337",
     "locked": false,
     "schema_version": 1,
     "solution": true
    }
   },
   "outputs": [],
   "source": [
    "# Create the Garbage class\n",
    "class Garbage(Base):\n",
    "    __tablename__ = 'garbage_collection'\n",
    "    id = Column(Integer, primary_key=True)\n",
    "    item = Column(String)\n",
    "    weight = Column(Float)\n",
    "    collector = Column(String)"
   ]
  },
  {
   "cell_type": "code",
   "execution_count": 3,
   "metadata": {
    "deletable": false,
    "nbgrader": {
     "checksum": "59c29987b266a9c395699d181bb087a6",
     "grade": false,
     "grade_id": "cell-4230ec6995aad3fd",
     "locked": false,
     "schema_version": 1,
     "solution": true
    }
   },
   "outputs": [],
   "source": [
    "# Create a connection to a SQLite database\n",
    "engine = create_engine('sqlite:///pets.sqlite')"
   ]
  },
  {
   "cell_type": "code",
   "execution_count": 4,
   "metadata": {},
   "outputs": [],
   "source": [
    "# Create the garbage_collection table within the database\n",
    "Base.metadata.create_all(engine)"
   ]
  },
  {
   "cell_type": "code",
   "execution_count": 5,
   "metadata": {},
   "outputs": [],
   "source": [
    "# To push the objects made and query the server we use a Session object\n",
    "from sqlalchemy.orm import Session\n",
    "session = Session(bind=engine)"
   ]
  },
  {
   "cell_type": "code",
   "execution_count": 6,
   "metadata": {
    "deletable": false,
    "nbgrader": {
     "checksum": "eea32595c61b7a5ae6d9d0e22b1d18df",
     "grade": false,
     "grade_id": "cell-544743e14f0f9a25",
     "locked": false,
     "schema_version": 1,
     "solution": true
    }
   },
   "outputs": [],
   "source": [
    "# Create some instances of the Garbage class\n",
    "session.add(Garbage(item='inflatable', weight=5.25, collector='Norman_Adkins'))\n",
    "session.add(Garbage(item='bucket', weight=3.1, collector='John_Doe'))\n",
    "session.add(Garbage(item='basketball', weight=2.1, collector='Jane_Doe'))\n",
    "session.add(Garbage(item='beer_can', weight=0.1, collector='Unknown'))"
   ]
  },
  {
   "cell_type": "code",
   "execution_count": 7,
   "metadata": {
    "deletable": false,
    "nbgrader": {
     "checksum": "2e13e07533fce1b94f2693a49958066b",
     "grade": false,
     "grade_id": "cell-7ead20b8cbdbfb73",
     "locked": false,
     "schema_version": 1,
     "solution": true
    }
   },
   "outputs": [],
   "source": [
    "# Add these objects to the session\n",
    "session.commit()"
   ]
  },
  {
   "cell_type": "code",
   "execution_count": 8,
   "metadata": {},
   "outputs": [
    {
     "data": {
      "text/plain": [
       "[('inflatable', 5.25, 'Norman_Adkins'),\n",
       " ('bucket', 3.1, 'John_Doe'),\n",
       " ('beer_can', 0.1, 'Unknown'),\n",
       " ('inflatable', 5.25, 'Norman_Adkins'),\n",
       " ('bucket', 3.1, 'John_Doe'),\n",
       " ('basketball', 2.1, 'Jane_Doe'),\n",
       " ('beer_can', 0.1, 'Unknown'),\n",
       " ('inflatable', 5.25, 'Norman_Adkins'),\n",
       " ('bucket', 3.1, 'John_Doe'),\n",
       " ('basketball', 2.1, 'Jane_Doe'),\n",
       " ('beer_can', 0.1, 'Unknown'),\n",
       " ('inflatable', 5.25, 'Norman_Adkins'),\n",
       " ('bucket', 3.1, 'John_Doe'),\n",
       " ('basketball', 2.1, 'Jane_Doe'),\n",
       " ('beer_can', 0.1, 'Unknown')]"
      ]
     },
     "execution_count": 8,
     "metadata": {},
     "output_type": "execute_result"
    }
   ],
   "source": [
    "session.query(Garbage.item, Garbage.weight, Garbage.collector).all()"
   ]
  },
  {
   "cell_type": "code",
   "execution_count": 9,
   "metadata": {
    "deletable": false,
    "nbgrader": {
     "checksum": "d4a7717476260b79dd53ffdcee0b352e",
     "grade": false,
     "grade_id": "cell-a66cda367a0b1515",
     "locked": false,
     "schema_version": 1,
     "solution": true
    }
   },
   "outputs": [],
   "source": [
    "# Update two rows of data\n",
    "inflatable = session.query(Garbage).filter(Garbage.item == 'inflatable').first()\n",
    "Garbage.weight -= 0.25"
   ]
  },
  {
   "cell_type": "code",
   "execution_count": 10,
   "metadata": {
    "deletable": false,
    "nbgrader": {
     "checksum": "fc1a996c75d8d3b91c9f7d1c7a74feee",
     "grade": false,
     "grade_id": "cell-2cee82afd03d3679",
     "locked": false,
     "schema_version": 1,
     "solution": true
    }
   },
   "outputs": [],
   "source": [
    "# Delete the row with the lowest weight\n",
    "lightest_item = session.query(Garbage).order_by(Garbage.item).first()\n",
    "session.delete(lightest_item)"
   ]
  },
  {
   "cell_type": "code",
   "execution_count": 11,
   "metadata": {
    "deletable": false,
    "nbgrader": {
     "checksum": "ecc333c6906d189152b758d27e331e36",
     "grade": false,
     "grade_id": "cell-23672c755f55dd5d",
     "locked": false,
     "schema_version": 1,
     "solution": true
    }
   },
   "outputs": [
    {
     "data": {
      "text/plain": [
       "[(1, 'inflatable', 5.0, 'Norman_Adkins'),\n",
       " (2, 'bucket', 2.85, 'John_Doe'),\n",
       " (4, 'beer_can', -0.15, 'Unknown'),\n",
       " (5, 'inflatable', 5.0, 'Norman_Adkins'),\n",
       " (6, 'bucket', 2.85, 'John_Doe'),\n",
       " (8, 'beer_can', -0.15, 'Unknown'),\n",
       " (9, 'inflatable', 5.0, 'Norman_Adkins'),\n",
       " (10, 'bucket', 2.85, 'John_Doe'),\n",
       " (11, 'basketball', 1.85, 'Jane_Doe'),\n",
       " (12, 'beer_can', -0.15, 'Unknown'),\n",
       " (13, 'inflatable', 5.0, 'Norman_Adkins'),\n",
       " (14, 'bucket', 2.85, 'John_Doe'),\n",
       " (15, 'basketball', 1.85, 'Jane_Doe'),\n",
       " (16, 'beer_can', -0.15, 'Unknown')]"
      ]
     },
     "execution_count": 11,
     "metadata": {},
     "output_type": "execute_result"
    }
   ],
   "source": [
    "# Collect all of the items and print their information\n",
    "session.query(Garbage.id, Garbage.item, Garbage.weight, Garbage.collector).all()"
   ]
  },
  {
   "cell_type": "code",
   "execution_count": 12,
   "metadata": {},
   "outputs": [
    {
     "data": {
      "text/plain": [
       "[('inflatable', 5.0, 'Norman_Adkins'),\n",
       " ('bucket', 2.85, 'John_Doe'),\n",
       " ('beer_can', -0.15, 'Unknown'),\n",
       " ('inflatable', 5.0, 'Norman_Adkins'),\n",
       " ('bucket', 2.85, 'John_Doe'),\n",
       " ('beer_can', -0.15, 'Unknown'),\n",
       " ('inflatable', 5.0, 'Norman_Adkins'),\n",
       " ('bucket', 2.85, 'John_Doe'),\n",
       " ('basketball', 1.85, 'Jane_Doe'),\n",
       " ('beer_can', -0.15, 'Unknown'),\n",
       " ('inflatable', 5.0, 'Norman_Adkins'),\n",
       " ('bucket', 2.85, 'John_Doe'),\n",
       " ('basketball', 1.85, 'Jane_Doe'),\n",
       " ('beer_can', -0.15, 'Unknown')]"
      ]
     },
     "execution_count": 12,
     "metadata": {},
     "output_type": "execute_result"
    }
   ],
   "source": [
    "# Print all items\n",
    "session.query(Garbage.item, Garbage.weight, Garbage.collector).all()"
   ]
  },
  {
   "cell_type": "code",
   "execution_count": null,
   "metadata": {},
   "outputs": [],
   "source": []
  }
 ],
 "metadata": {
  "kernelspec": {
   "display_name": "Python 3",
   "language": "python",
   "name": "python3"
  },
  "language_info": {
   "codemirror_mode": {
    "name": "ipython",
    "version": 3
   },
   "file_extension": ".py",
   "mimetype": "text/x-python",
   "name": "python",
   "nbconvert_exporter": "python",
   "pygments_lexer": "ipython3",
   "version": "3.6.13"
  },
  "varInspector": {
   "cols": {
    "lenName": 16,
    "lenType": 16,
    "lenVar": 40
   },
   "kernels_config": {
    "python": {
     "delete_cmd_postfix": "",
     "delete_cmd_prefix": "del ",
     "library": "var_list.py",
     "varRefreshCmd": "print(var_dic_list())"
    },
    "r": {
     "delete_cmd_postfix": ") ",
     "delete_cmd_prefix": "rm(",
     "library": "var_list.r",
     "varRefreshCmd": "cat(var_dic_list()) "
    }
   },
   "types_to_exclude": [
    "module",
    "function",
    "builtin_function_or_method",
    "instance",
    "_Feature"
   ],
   "window_display": false
  }
 },
 "nbformat": 4,
 "nbformat_minor": 2
}
